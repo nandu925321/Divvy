{
 "cells": [
  {
   "cell_type": "code",
   "execution_count": 1,
   "metadata": {
    "collapsed": true
   },
   "outputs": [],
   "source": [
    "import  pandas as pd\n",
    "import numpy as np"
   ]
  },
  {
   "cell_type": "code",
   "execution_count": 2,
   "metadata": {
    "collapsed": true
   },
   "outputs": [],
   "source": [
    "data = pd.read_csv(\"complete_processed_data.csv\")"
   ]
  },
  {
   "cell_type": "code",
   "execution_count": null,
   "metadata": {
    "collapsed": true
   },
   "outputs": [],
   "source": [
    "# Remove zero temperature; Reason: In cases where weather data is not found the values are defaulted to zero so removing them "
   ]
  },
  {
   "cell_type": "code",
   "execution_count": 3,
   "metadata": {
    "collapsed": false
   },
   "outputs": [],
   "source": [
    "data = data[data['min_temp']!=0]"
   ]
  },
  {
   "cell_type": "code",
   "execution_count": 4,
   "metadata": {
    "collapsed": true
   },
   "outputs": [],
   "source": [
    "data = data[data['max_temp']!=0]"
   ]
  },
  {
   "cell_type": "code",
   "execution_count": 5,
   "metadata": {
    "collapsed": true
   },
   "outputs": [],
   "source": [
    "data = data[data['avg_temp']!=0]"
   ]
  },
  {
   "cell_type": "code",
   "execution_count": 6,
   "metadata": {
    "collapsed": true
   },
   "outputs": [],
   "source": [
    "data = data.loc[:, ~data.columns.str.contains('^Unnamed')]"
   ]
  },
  {
   "cell_type": "code",
   "execution_count": 7,
   "metadata": {
    "collapsed": false
   },
   "outputs": [],
   "source": [
    "y = data.distance\n",
    "data = data.drop(['distance','datetime','start_time','end_time'],axis=1)\n",
    "X = data"
   ]
  },
  {
   "cell_type": "code",
   "execution_count": 8,
   "metadata": {
    "collapsed": false
   },
   "outputs": [],
   "source": [
    "# As per the e-mail We are not supposed to feed any information that is not known at the start of the trip like duration\n",
    "# So I am dropping it , If it is not to be dropped please comment the following code\n",
    "data = data.drop(['tripduration'],axis=1)\n",
    "X = data\n"
   ]
  },
  {
   "cell_type": "code",
   "execution_count": 9,
   "metadata": {
    "collapsed": false
   },
   "outputs": [
    {
     "data": {
      "text/html": [
       "<div>\n",
       "<style>\n",
       "    .dataframe thead tr:only-child th {\n",
       "        text-align: right;\n",
       "    }\n",
       "\n",
       "    .dataframe thead th {\n",
       "        text-align: left;\n",
       "    }\n",
       "\n",
       "    .dataframe tbody tr th {\n",
       "        vertical-align: top;\n",
       "    }\n",
       "</style>\n",
       "<table border=\"1\" class=\"dataframe\">\n",
       "  <thead>\n",
       "    <tr style=\"text-align: right;\">\n",
       "      <th></th>\n",
       "      <th>from_station_id</th>\n",
       "      <th>to_station_id</th>\n",
       "      <th>usertype</th>\n",
       "      <th>gender</th>\n",
       "      <th>birthyear</th>\n",
       "      <th>month_rel</th>\n",
       "      <th>day_rel</th>\n",
       "      <th>hr_rel</th>\n",
       "      <th>max_temp</th>\n",
       "      <th>min_temp</th>\n",
       "      <th>avg_temp</th>\n",
       "    </tr>\n",
       "  </thead>\n",
       "  <tbody>\n",
       "    <tr>\n",
       "      <th>0</th>\n",
       "      <td>75</td>\n",
       "      <td>57</td>\n",
       "      <td>1</td>\n",
       "      <td>1</td>\n",
       "      <td>28.0</td>\n",
       "      <td>5</td>\n",
       "      <td>1</td>\n",
       "      <td>17</td>\n",
       "      <td>57</td>\n",
       "      <td>45</td>\n",
       "      <td>51</td>\n",
       "    </tr>\n",
       "    <tr>\n",
       "      <th>1</th>\n",
       "      <td>75</td>\n",
       "      <td>45</td>\n",
       "      <td>1</td>\n",
       "      <td>1</td>\n",
       "      <td>25.0</td>\n",
       "      <td>5</td>\n",
       "      <td>1</td>\n",
       "      <td>17</td>\n",
       "      <td>57</td>\n",
       "      <td>45</td>\n",
       "      <td>51</td>\n",
       "    </tr>\n",
       "    <tr>\n",
       "      <th>2</th>\n",
       "      <td>331</td>\n",
       "      <td>232</td>\n",
       "      <td>1</td>\n",
       "      <td>1</td>\n",
       "      <td>25.0</td>\n",
       "      <td>5</td>\n",
       "      <td>1</td>\n",
       "      <td>17</td>\n",
       "      <td>57</td>\n",
       "      <td>45</td>\n",
       "      <td>51</td>\n",
       "    </tr>\n",
       "    <tr>\n",
       "      <th>3</th>\n",
       "      <td>7</td>\n",
       "      <td>34</td>\n",
       "      <td>1</td>\n",
       "      <td>1</td>\n",
       "      <td>27.0</td>\n",
       "      <td>5</td>\n",
       "      <td>1</td>\n",
       "      <td>17</td>\n",
       "      <td>57</td>\n",
       "      <td>45</td>\n",
       "      <td>51</td>\n",
       "    </tr>\n",
       "    <tr>\n",
       "      <th>4</th>\n",
       "      <td>191</td>\n",
       "      <td>182</td>\n",
       "      <td>1</td>\n",
       "      <td>1</td>\n",
       "      <td>27.0</td>\n",
       "      <td>5</td>\n",
       "      <td>1</td>\n",
       "      <td>17</td>\n",
       "      <td>57</td>\n",
       "      <td>45</td>\n",
       "      <td>51</td>\n",
       "    </tr>\n",
       "  </tbody>\n",
       "</table>\n",
       "</div>"
      ],
      "text/plain": [
       "   from_station_id  to_station_id  usertype  gender  birthyear  month_rel  \\\n",
       "0               75             57         1       1       28.0          5   \n",
       "1               75             45         1       1       25.0          5   \n",
       "2              331            232         1       1       25.0          5   \n",
       "3                7             34         1       1       27.0          5   \n",
       "4              191            182         1       1       27.0          5   \n",
       "\n",
       "   day_rel  hr_rel  max_temp  min_temp  avg_temp  \n",
       "0        1      17        57        45        51  \n",
       "1        1      17        57        45        51  \n",
       "2        1      17        57        45        51  \n",
       "3        1      17        57        45        51  \n",
       "4        1      17        57        45        51  "
      ]
     },
     "execution_count": 9,
     "metadata": {},
     "output_type": "execute_result"
    }
   ],
   "source": [
    "data.head(5)"
   ]
  },
  {
   "cell_type": "code",
   "execution_count": 10,
   "metadata": {
    "collapsed": false
   },
   "outputs": [],
   "source": [
    "# Converting to numpy format\n",
    "y = y.as_matrix()\n",
    "X = X.as_matrix()"
   ]
  },
  {
   "cell_type": "markdown",
   "metadata": {},
   "source": [
    " # Do not run this cell on machines constrained by memory and speed , an image of the output of this cell is attached below\n",
    " \n",
    " ![Feature Importances](img/feature_ranking_divvy.PNG)"
   ]
  },
  {
   "cell_type": "code",
   "execution_count": 11,
   "metadata": {
    "collapsed": false
   },
   "outputs": [
    {
     "name": "stdout",
     "output_type": "stream",
     "text": [
      "Feature ranking:\n",
      "1. feature 0 (0.323137)\n",
      "2. feature 1 (0.321504)\n",
      "3. feature 4 (0.197223)\n",
      "4. feature 7 (0.133599)\n",
      "5. feature 10 (0.004177)\n",
      "6. feature 3 (0.004135)\n",
      "7. feature 8 (0.004131)\n",
      "8. feature 5 (0.004101)\n",
      "9. feature 9 (0.004101)\n",
      "10. feature 6 (0.003693)\n",
      "11. feature 2 (0.000198)\n"
     ]
    },
    {
     "data": {
      "image/png": "[encoded data removed]",
      "text/plain": [
       "<matplotlib.figure.Figure at 0x20345ad0208>"
      ]
     },
     "metadata": {},
     "output_type": "display_data"
    }
   ],
   "source": [
    "# Feature Importances\n",
    "import numpy as np\n",
    "import matplotlib.pyplot as plt\n",
    "from sklearn.ensemble import ExtraTreesClassifier\n",
    "\n",
    "forest = ExtraTreesClassifier(n_estimators=250,\n",
    "                              random_state=0)\n",
    "\n",
    "forest.fit(X, y)\n",
    "importances = forest.feature_importances_\n",
    "std = np.std([tree.feature_importances_ for tree in forest.estimators_],\n",
    "             axis=0)\n",
    "indices = np.argsort(importances)[::-1]\n",
    "\n",
    "# Print the feature ranking\n",
    "print(\"Feature ranking:\")\n",
    "\n",
    "for f in range(X.shape[1]):\n",
    "    print(\"%d. feature %d (%f)\" % (f + 1, indices[f], importances[indices[f]]))\n",
    "\n",
    "# Plot the feature importances of the forest\n",
    "plt.figure()\n",
    "plt.title(\"Feature importances\")\n",
    "plt.bar(range(X.shape[1]), importances[indices],\n",
    "       color=\"r\", yerr=std[indices], align=\"center\")\n",
    "plt.xticks(range(X.shape[1]), indices)\n",
    "plt.xlim([-1, X.shape[1]])\n",
    "plt.show()"
   ]
  },
  {
   "cell_type": "markdown",
   "metadata": {},
   "source": [
    "# From the results of the below cell the best number of estimators are 200, this cell will take a lot of resources"
   ]
  },
  {
   "cell_type": "code",
   "execution_count": 17,
   "metadata": {
    "collapsed": false
   },
   "outputs": [
    {
     "name": "stderr",
     "output_type": "stream",
     "text": [
      "[Parallel(n_jobs=6)]: Done  38 tasks      | elapsed:   25.2s\n",
      "[Parallel(n_jobs=6)]: Done 188 tasks      | elapsed:  2.0min\n",
      "[Parallel(n_jobs=6)]: Done 200 out of 200 | elapsed:  2.1min finished\n"
     ]
    }
   ],
   "source": [
    "from sklearn.model_selection import train_test_split \n",
    "from sklearn.ensemble import RandomForestClassifier as RFC\n",
    "\n",
    "X_train, X_test, y_train, y_test = train_test_split(X,y,random_state=1)\n",
    "oob_rfc = []\n",
    "n_estimators = [20,30,50,80,100,150,200]\n",
    "for n in n_estimators:\n",
    "    rfc = RFC(n_estimators=n, criterion=\"gini\",max_depth=None, min_samples_split=2, \n",
    "        min_weight_fraction_leaf=0.0,max_leaf_nodes=None, min_impurity_decrease=0.0,\n",
    "        min_impurity_split=None,bootstrap=True,oob_score=True, n_jobs=6, \n",
    "                                        verbose=1, warm_start=True, class_weight=None)\n",
    "    rfc.fit(X_train,y_train)\n",
    "    oob_rfc.append(rfc.oob_score_)\n",
    "    \n",
    "\n"
   ]
  },
  {
   "cell_type": "code",
   "execution_count": null,
   "metadata": {
    "collapsed": false
   },
   "outputs": [],
   "source": [
    "# plot the results\n",
    "import matplotlib.pyplot as plt\n",
    "%matplotlib inline\n",
    "plt.plot(n_estimators,oob_rfc)\n",
    "plt.xlabel(\"Number of estimators\")\n",
    "plt.ylabel(\"OOB Score\")\n",
    "plt.show()"
   ]
  },
  {
   "cell_type": "code",
   "execution_count": 33,
   "metadata": {
    "collapsed": false
   },
   "outputs": [
    {
     "name": "stderr",
     "output_type": "stream",
     "text": [
      "[Parallel(n_jobs=6)]: Done  38 tasks      | elapsed:   24.8s\n",
      "[Parallel(n_jobs=6)]: Done 188 tasks      | elapsed:  2.0min\n",
      "[Parallel(n_jobs=6)]: Done 200 out of 200 | elapsed:  2.1min finished\n",
      "[Parallel(n_jobs=6)]: Done  38 tasks      | elapsed:    1.6s\n",
      "[Parallel(n_jobs=6)]: Done 188 tasks      | elapsed:    8.3s\n",
      "[Parallel(n_jobs=6)]: Done 200 out of 200 | elapsed:    9.0s finished\n",
      "[Parallel(n_jobs=6)]: Done  38 tasks      | elapsed:    1.8s\n",
      "[Parallel(n_jobs=6)]: Done 188 tasks      | elapsed:    8.8s\n",
      "[Parallel(n_jobs=6)]: Done 200 out of 200 | elapsed:    9.4s finished\n"
     ]
    }
   ],
   "source": [
    "rfc = RFC(n_estimators=200, criterion=\"gini\",max_depth=None, min_samples_split=2, \n",
    "        min_weight_fraction_leaf=0.0,max_leaf_nodes=None, min_impurity_decrease=0.0,\n",
    "        min_impurity_split=None,bootstrap=True,oob_score=True, n_jobs=6, \n",
    "                                        verbose=1, warm_start=True, class_weight=None)\n",
    "rfc.fit(X_train,y_train)\n",
    "mean_accuracy = rfc.score(X_test,y_test)\n",
    "y_pred = rfc.predict(X_test)\n"
   ]
  },
  {
   "cell_type": "code",
   "execution_count": 43,
   "metadata": {
    "collapsed": false
   },
   "outputs": [
    {
     "data": {
      "text/plain": [
       "0.80863191867282214"
      ]
     },
     "execution_count": 43,
     "metadata": {},
     "output_type": "execute_result"
    }
   ],
   "source": [
    "mean_accuracy"
   ]
  },
  {
   "cell_type": "markdown",
   "metadata": {},
   "source": [
    "# output of above cell\n",
    "![rf_ac](img/rf_ac.PNG)"
   ]
  },
  {
   "cell_type": "code",
   "execution_count": 44,
   "metadata": {
    "collapsed": false
   },
   "outputs": [
    {
     "name": "stdout",
     "output_type": "stream",
     "text": [
      "[ 0.79985905  0.81168862] [ 0.5963553   0.92100871] [ 0.68327644  0.86290003] [ 89445 168968]\n",
      "             precision    recall  f1-score   support\n",
      "\n",
      "          0       0.80      0.60      0.68     89445\n",
      "          1       0.81      0.92      0.86    168968\n",
      "\n",
      "avg / total       0.81      0.81      0.80    258413\n",
      "\n"
     ]
    }
   ],
   "source": [
    "from sklearn.metrics import precision_recall_fscore_support\n",
    "\n",
    "precision, recall,fscore,support = precision_recall_fscore_support(y_test, y_pred, labels =[0,1])\n",
    "print(precision, recall,fscore,support)\n",
    "\n",
    "from sklearn.metrics import classification_report\n",
    "\n",
    "print(classification_report(y_test,y_pred,labels=[0,1]))"
   ]
  },
  {
   "cell_type": "markdown",
   "metadata": {},
   "source": [
    "# Grid search for the best C value , found out to be 0.001"
   ]
  },
  {
   "cell_type": "code",
   "execution_count": null,
   "metadata": {
    "collapsed": false
   },
   "outputs": [],
   "source": [
    "from sklearn.linear_model import LogisticRegression\n",
    "from sklearn.model_selection import GridSearchCV\n",
    "C = np.array([1,0.1,0.010,0.5,0.005,0.001])\n",
    "logreg = LogisticRegression()\n",
    "grid = GridSearchCV(estimator=logreg, param_grid=dict(C=C), cv=10)\n",
    "grid.fit(X, y)\n",
    "print(grid)\n"
   ]
  },
  {
   "cell_type": "code",
   "execution_count": 24,
   "metadata": {
    "collapsed": false
   },
   "outputs": [
    {
     "name": "stdout",
     "output_type": "stream",
     "text": [
      "0.653473315971\n"
     ]
    },
    {
     "name": "stderr",
     "output_type": "stream",
     "text": [
      "D:\\Anaconda\\lib\\site-packages\\sklearn\\linear_model\\sag.py:326: ConvergenceWarning: The max_iter was reached which means the coef_ did not converge\n",
      "  \"the coef_ did not converge\", ConvergenceWarning)\n"
     ]
    }
   ],
   "source": [
    "logreg1 = LogisticRegression(C=0.001)\n",
    "logreg1.fit(X_train,y_train)\n",
    "y_pred_logreg = logreg1.predict(X_test)\n",
    "print(logreg1.score(X_test,y_test))"
   ]
  },
  {
   "cell_type": "markdown",
   "metadata": {},
   "source": [
    "# output of the above cell\n",
    "![logreg](img/logreg_pred.PNG)\n"
   ]
  },
  {
   "cell_type": "code",
   "execution_count": 45,
   "metadata": {
    "collapsed": false
   },
   "outputs": [
    {
     "name": "stdout",
     "output_type": "stream",
     "text": [
      "[ 0.31785714  0.65383736] [  9.95024876e-04   9.98869608e-01] [ 0.00198384  0.79033765] [ 89445 168968]\n",
      "             precision    recall  f1-score   support\n",
      "\n",
      "          0       0.32      0.00      0.00     89445\n",
      "          1       0.65      1.00      0.79    168968\n",
      "\n",
      "avg / total       0.54      0.65      0.52    258413\n",
      "\n"
     ]
    }
   ],
   "source": [
    "from sklearn.metrics import precision_recall_fscore_support\n",
    "\n",
    "precision, recall,fscore,support = precision_recall_fscore_support(y_test, y_pred_logreg, labels =[0,1])\n",
    "print(precision, recall,fscore,support)\n",
    "\n",
    "from sklearn.metrics import classification_report\n",
    "\n",
    "print(classification_report(y_test,y_pred_logreg,labels=[0,1]))"
   ]
  },
  {
   "cell_type": "code",
   "execution_count": 25,
   "metadata": {
    "collapsed": false
   },
   "outputs": [
    {
     "name": "stdout",
     "output_type": "stream",
     "text": [
      "0.696280759869\n"
     ]
    }
   ],
   "source": [
    "from sklearn.ensemble import GradientBoostingClassifier as gbc\n",
    "gb = gbc(n_estimators=200)\n",
    "gb.fit(X_train,y_train)\n",
    "y_pred_gb = gb.predict(X_test)\n",
    "print(gb.score(X_test,y_test))"
   ]
  },
  {
   "cell_type": "markdown",
   "metadata": {},
   "source": [
    "# output of the above cell\n",
    "![gbc](img/gbc_pred.PNG)\n"
   ]
  },
  {
   "cell_type": "code",
   "execution_count": 46,
   "metadata": {
    "collapsed": false
   },
   "outputs": [
    {
     "name": "stdout",
     "output_type": "stream",
     "text": [
      "[ 0.7010714   0.69571594] [ 0.21361731  0.95178377] [ 0.32745782  0.80384978] [ 89445 168968]\n",
      "             precision    recall  f1-score   support\n",
      "\n",
      "          0       0.70      0.21      0.33     89445\n",
      "          1       0.70      0.95      0.80    168968\n",
      "\n",
      "avg / total       0.70      0.70      0.64    258413\n",
      "\n"
     ]
    }
   ],
   "source": [
    "from sklearn.metrics import precision_recall_fscore_support\n",
    "\n",
    "precision, recall,fscore,support = precision_recall_fscore_support(y_test, y_pred_gb, labels =[0,1])\n",
    "print(precision, recall,fscore,support)\n",
    "\n",
    "from sklearn.metrics import classification_report\n",
    "\n",
    "print(classification_report(y_test,y_pred_gb,labels=[0,1]))"
   ]
  },
  {
   "cell_type": "code",
   "execution_count": 47,
   "metadata": {
    "collapsed": false
   },
   "outputs": [
    {
     "name": "stdout",
     "output_type": "stream",
     "text": [
      "0.621075565084\n"
     ]
    }
   ],
   "source": [
    "# Old Friend Naive Bayes\n",
    "from sklearn.naive_bayes import GaussianNB\n",
    "gnb = GaussianNB()\n",
    "gnb.fit(X_test,y_test)\n",
    "y_pred_gnb = gnb.predict(X_test)\n",
    "print(gnb.score(X_test,y_test))\n"
   ]
  },
  {
   "cell_type": "code",
   "execution_count": 48,
   "metadata": {
    "collapsed": false
   },
   "outputs": [
    {
     "name": "stdout",
     "output_type": "stream",
     "text": [
      "[ 0.42247027  0.67434225] [ 0.2581251   0.81320723] [ 0.32045526  0.73729311] [ 89445 168968]\n",
      "             precision    recall  f1-score   support\n",
      "\n",
      "          0       0.42      0.26      0.32     89445\n",
      "          1       0.67      0.81      0.74    168968\n",
      "\n",
      "avg / total       0.59      0.62      0.59    258413\n",
      "\n"
     ]
    }
   ],
   "source": [
    "from sklearn.metrics import precision_recall_fscore_support\n",
    "\n",
    "precision, recall,fscore,support = precision_recall_fscore_support(y_test, y_pred_gnb, labels =[0,1])\n",
    "print(precision, recall,fscore,support)\n",
    "\n",
    "from sklearn.metrics import classification_report\n",
    "\n",
    "print(classification_report(y_test,y_pred_gnb,labels=[0,1]))"
   ]
  },
  {
   "cell_type": "code",
   "execution_count": 27,
   "metadata": {
    "collapsed": false
   },
   "outputs": [
    {
     "name": "stderr",
     "output_type": "stream",
     "text": [
      "Using TensorFlow backend.\n"
     ]
    }
   ],
   "source": [
    "# Start Keras\n",
    "from keras.models import Sequential\n",
    "from keras.layers import Dense\n",
    "from keras.wrappers.scikit_learn import KerasClassifier\n",
    "from sklearn.model_selection import cross_val_score\n",
    "from sklearn.preprocessing import LabelEncoder\n",
    "from sklearn.model_selection import StratifiedKFold\n",
    "from sklearn.preprocessing import StandardScaler\n",
    "from sklearn.pipeline import Pipeline"
   ]
  },
  {
   "cell_type": "code",
   "execution_count": 28,
   "metadata": {
    "collapsed": true
   },
   "outputs": [],
   "source": [
    "# Encoding class variable as integer\n",
    "encoder = LabelEncoder()\n",
    "encoder.fit(y)\n",
    "encoded_Y = encoder.transform(y)"
   ]
  },
  {
   "cell_type": "code",
   "execution_count": 49,
   "metadata": {
    "collapsed": true
   },
   "outputs": [],
   "source": [
    "# Create Model\n",
    "def model_build():\n",
    "    # create model\n",
    "    model = Sequential()\n",
    "    model.add(Dense(10, input_dim=11, kernel_initializer='normal', activation='relu'))\n",
    "    model.add(Dense(1, kernel_initializer='normal', activation='sigmoid'))\n",
    "    # Compile model\n",
    "    model.compile(loss='binary_crossentropy', optimizer='adam', metrics=['accuracy'])\n",
    "    return model"
   ]
  },
  {
   "cell_type": "code",
   "execution_count": 50,
   "metadata": {
    "collapsed": false
   },
   "outputs": [
    {
     "name": "stdout",
     "output_type": "stream",
     "text": [
      "Epoch 1/1\n",
      " - 181s - loss: 0.6302 - acc: 0.6552\n",
      "Epoch 1/1\n",
      " - 179s - loss: 0.6301 - acc: 0.6552\n",
      "Epoch 1/1\n",
      " - 194s - loss: 0.6302 - acc: 0.6552\n",
      "Epoch 1/1\n",
      " - 190s - loss: 0.6301 - acc: 0.6555\n",
      "Epoch 1/1\n",
      " - 184s - loss: 0.6303 - acc: 0.6550\n",
      "Epoch 1/1\n",
      " - 167s - loss: 0.6303 - acc: 0.6554\n",
      "Epoch 1/1\n",
      " - 171s - loss: 0.6329 - acc: 0.6529\n",
      "Epoch 1/1\n",
      " - 167s - loss: 0.6303 - acc: 0.6552\n",
      "Epoch 1/1\n",
      " - 170s - loss: 0.6302 - acc: 0.6552\n",
      "Epoch 1/1\n",
      " - 170s - loss: 0.6330 - acc: 0.6531\n",
      "Results: 65.57% (0.12%)\n"
     ]
    }
   ],
   "source": [
    "seed=1\n",
    "\n",
    "# evaluate model with kerac classifier \n",
    "estimator = KerasClassifier(build_fn=model_build, nb_epoch=100, batch_size=5, verbose=2)\n",
    "kfold = StratifiedKFold(n_splits=10, shuffle=True, random_state=seed)\n",
    "results = cross_val_score(estimator, X, encoded_Y, cv=kfold)\n",
    "print(\"Results: %.2f%% (%.2f%%)\" % (results.mean()*100, results.std()*100))\n"
   ]
  },
  {
   "cell_type": "markdown",
   "metadata": {},
   "source": [
    "# output of above cell\n",
    "![keras](img/keras_nn.PNG)"
   ]
  },
  {
   "cell_type": "code",
   "execution_count": 51,
   "metadata": {
    "collapsed": false
   },
   "outputs": [
    {
     "name": "stdout",
     "output_type": "stream",
     "text": [
      "Epoch 1/100\n",
      " - 174s - loss: 0.6242 - acc: 0.6589\n",
      "Epoch 2/100\n",
      " - 183s - loss: 0.6226 - acc: 0.6598\n",
      "Epoch 3/100\n",
      " - 205s - loss: 0.6221 - acc: 0.6597\n",
      "Epoch 4/100\n",
      " - 206s - loss: 0.6218 - acc: 0.6599\n",
      "Epoch 5/100\n",
      " - 201s - loss: 0.6217 - acc: 0.6599\n",
      "Epoch 6/100\n",
      " - 209s - loss: 0.6217 - acc: 0.6596\n",
      "Epoch 7/100\n",
      " - 207s - loss: 0.6217 - acc: 0.6597\n",
      "Epoch 8/100\n",
      " - 198s - loss: 0.6216 - acc: 0.6596\n",
      "Epoch 9/100\n",
      " - 198s - loss: 0.6214 - acc: 0.6590\n",
      "Epoch 10/100\n",
      " - 203s - loss: 0.6213 - acc: 0.6590\n",
      "Epoch 11/100\n",
      " - 207s - loss: 0.6212 - acc: 0.6588\n",
      "Epoch 12/100\n",
      " - 209s - loss: 0.6210 - acc: 0.6594\n",
      "Epoch 13/100\n",
      " - 199s - loss: 0.6211 - acc: 0.6591\n",
      "Epoch 14/100\n",
      " - 197s - loss: 0.6210 - acc: 0.6592\n",
      "Epoch 15/100\n",
      " - 196s - loss: 0.6210 - acc: 0.6592\n",
      "Epoch 16/100\n",
      " - 197s - loss: 0.6210 - acc: 0.6591\n",
      "Epoch 17/100\n",
      " - 204s - loss: 0.6210 - acc: 0.6590\n",
      "Epoch 18/100\n",
      " - 177s - loss: 0.6210 - acc: 0.6590\n",
      "Epoch 19/100\n",
      " - 175s - loss: 0.6209 - acc: 0.6589\n",
      "Epoch 20/100\n",
      " - 179s - loss: 0.6209 - acc: 0.6586\n",
      "Epoch 21/100\n",
      " - 191s - loss: 0.6210 - acc: 0.6590\n",
      "Epoch 22/100\n",
      " - 212s - loss: 0.6210 - acc: 0.6592\n",
      "Epoch 23/100\n",
      " - 217s - loss: 0.6209 - acc: 0.6591\n",
      "Epoch 24/100\n",
      " - 211s - loss: 0.6209 - acc: 0.6590\n",
      "Epoch 25/100\n",
      " - 212s - loss: 0.6209 - acc: 0.6590\n",
      "Epoch 26/100\n",
      " - 186s - loss: 0.6209 - acc: 0.6590\n",
      "Epoch 27/100\n",
      " - 191s - loss: 0.6210 - acc: 0.6590\n",
      "Epoch 28/100\n",
      " - 218s - loss: 0.6210 - acc: 0.6590\n",
      "Epoch 29/100\n",
      " - 206s - loss: 0.6209 - acc: 0.6589\n",
      "Epoch 30/100\n",
      " - 187s - loss: 0.6209 - acc: 0.6590\n",
      "Epoch 31/100\n",
      " - 185s - loss: 0.6209 - acc: 0.6590\n",
      "Epoch 32/100\n",
      " - 183s - loss: 0.6209 - acc: 0.6591\n",
      "Epoch 33/100\n",
      " - 182s - loss: 0.6210 - acc: 0.6592\n",
      "Epoch 34/100\n",
      " - 181s - loss: 0.6209 - acc: 0.6588\n",
      "Epoch 35/100\n",
      " - 204s - loss: 0.6210 - acc: 0.6588\n",
      "Epoch 36/100\n"
     ]
    },
    {
     "name": "stderr",
     "output_type": "stream",
     "text": [
      "ERROR:root:Internal Python error in the inspect module.\n",
      "Below is the traceback from this internal error.\n",
      "\n"
     ]
    },
    {
     "name": "stdout",
     "output_type": "stream",
     "text": [
      "Traceback (most recent call last):\n",
      "  File \"D:\\Anaconda\\lib\\site-packages\\IPython\\core\\interactiveshell.py\", line 2881, in run_code\n",
      "    exec(code_obj, self.user_global_ns, self.user_ns)\n",
      "  File \"<ipython-input-51-1874a57ac6ab>\", line 9, in <module>\n",
      "    results = cross_val_score(pipeline, X, encoded_Y, cv=kfold)\n",
      "  File \"D:\\Anaconda\\lib\\site-packages\\sklearn\\model_selection\\_validation.py\", line 321, in cross_val_score\n",
      "    pre_dispatch=pre_dispatch)\n",
      "  File \"D:\\Anaconda\\lib\\site-packages\\sklearn\\model_selection\\_validation.py\", line 195, in cross_validate\n",
      "    for train, test in cv.split(X, y, groups))\n",
      "  File \"D:\\Anaconda\\lib\\site-packages\\sklearn\\externals\\joblib\\parallel.py\", line 779, in __call__\n",
      "    while self.dispatch_one_batch(iterator):\n",
      "  File \"D:\\Anaconda\\lib\\site-packages\\sklearn\\externals\\joblib\\parallel.py\", line 625, in dispatch_one_batch\n",
      "    self._dispatch(tasks)\n",
      "  File \"D:\\Anaconda\\lib\\site-packages\\sklearn\\externals\\joblib\\parallel.py\", line 588, in _dispatch\n",
      "    job = self._backend.apply_async(batch, callback=cb)\n",
      "  File \"D:\\Anaconda\\lib\\site-packages\\sklearn\\externals\\joblib\\_parallel_backends.py\", line 111, in apply_async\n",
      "    result = ImmediateResult(func)\n",
      "  File \"D:\\Anaconda\\lib\\site-packages\\sklearn\\externals\\joblib\\_parallel_backends.py\", line 332, in __init__\n",
      "    self.results = batch()\n",
      "  File \"D:\\Anaconda\\lib\\site-packages\\sklearn\\externals\\joblib\\parallel.py\", line 131, in __call__\n",
      "    return [func(*args, **kwargs) for func, args, kwargs in self.items]\n",
      "  File \"D:\\Anaconda\\lib\\site-packages\\sklearn\\externals\\joblib\\parallel.py\", line 131, in <listcomp>\n",
      "    return [func(*args, **kwargs) for func, args, kwargs in self.items]\n",
      "  File \"D:\\Anaconda\\lib\\site-packages\\sklearn\\model_selection\\_validation.py\", line 437, in _fit_and_score\n",
      "    estimator.fit(X_train, y_train, **fit_params)\n",
      "  File \"D:\\Anaconda\\lib\\site-packages\\sklearn\\pipeline.py\", line 259, in fit\n",
      "    self._final_estimator.fit(Xt, y, **fit_params)\n",
      "  File \"D:\\Anaconda\\lib\\site-packages\\keras\\wrappers\\scikit_learn.py\", line 203, in fit\n",
      "    return super(KerasClassifier, self).fit(x, y, **kwargs)\n",
      "  File \"D:\\Anaconda\\lib\\site-packages\\keras\\wrappers\\scikit_learn.py\", line 147, in fit\n",
      "    history = self.model.fit(x, y, **fit_args)\n",
      "  File \"D:\\Anaconda\\lib\\site-packages\\keras\\models.py\", line 960, in fit\n",
      "    validation_steps=validation_steps)\n",
      "  File \"D:\\Anaconda\\lib\\site-packages\\keras\\engine\\training.py\", line 1650, in fit\n",
      "    validation_steps=validation_steps)\n",
      "  File \"D:\\Anaconda\\lib\\site-packages\\keras\\engine\\training.py\", line 1213, in _fit_loop\n",
      "    outs = f(ins_batch)\n",
      "  File \"D:\\Anaconda\\lib\\site-packages\\keras\\backend\\tensorflow_backend.py\", line 2352, in __call__\n",
      "    **self.session_kwargs)\n",
      "  File \"D:\\Anaconda\\lib\\site-packages\\tensorflow\\python\\client\\session.py\", line 789, in run\n",
      "    run_metadata_ptr)\n",
      "  File \"D:\\Anaconda\\lib\\site-packages\\tensorflow\\python\\client\\session.py\", line 997, in _run\n",
      "    feed_dict_string, options, run_metadata)\n",
      "  File \"D:\\Anaconda\\lib\\site-packages\\tensorflow\\python\\client\\session.py\", line 1132, in _do_run\n",
      "    target_list, options, run_metadata)\n",
      "  File \"D:\\Anaconda\\lib\\site-packages\\tensorflow\\python\\client\\session.py\", line 1139, in _do_call\n",
      "    return fn(*args)\n",
      "  File \"D:\\Anaconda\\lib\\site-packages\\tensorflow\\python\\client\\session.py\", line 1121, in _run_fn\n",
      "    status, run_metadata)\n",
      "KeyboardInterrupt\n",
      "\n",
      "During handling of the above exception, another exception occurred:\n",
      "\n",
      "Traceback (most recent call last):\n",
      "  File \"D:\\Anaconda\\lib\\site-packages\\IPython\\core\\interactiveshell.py\", line 1821, in showtraceback\n",
      "    stb = value._render_traceback_()\n",
      "AttributeError: 'KeyboardInterrupt' object has no attribute '_render_traceback_'\n",
      "\n",
      "During handling of the above exception, another exception occurred:\n",
      "\n",
      "Traceback (most recent call last):\n",
      "  File \"D:\\Anaconda\\lib\\site-packages\\IPython\\core\\ultratb.py\", line 1132, in get_records\n",
      "    return _fixed_getinnerframes(etb, number_of_lines_of_context, tb_offset)\n",
      "  File \"D:\\Anaconda\\lib\\site-packages\\IPython\\core\\ultratb.py\", line 313, in wrapped\n",
      "    return f(*args, **kwargs)\n",
      "  File \"D:\\Anaconda\\lib\\site-packages\\IPython\\core\\ultratb.py\", line 358, in _fixed_getinnerframes\n",
      "    records = fix_frame_records_filenames(inspect.getinnerframes(etb, context))\n",
      "  File \"D:\\Anaconda\\lib\\inspect.py\", line 1454, in getinnerframes\n",
      "    frameinfo = (tb.tb_frame,) + getframeinfo(tb, context)\n",
      "  File \"D:\\Anaconda\\lib\\inspect.py\", line 1411, in getframeinfo\n",
      "    filename = getsourcefile(frame) or getfile(frame)\n",
      "  File \"D:\\Anaconda\\lib\\inspect.py\", line 666, in getsourcefile\n",
      "    if getattr(getmodule(object, filename), '__loader__', None) is not None:\n",
      "  File \"D:\\Anaconda\\lib\\inspect.py\", line 702, in getmodule\n",
      "    for modname, module in list(sys.modules.items()):\n",
      "KeyboardInterrupt\n"
     ]
    },
    {
     "ename": "KeyboardInterrupt",
     "evalue": "",
     "output_type": "error",
     "traceback": [
      "\u001b[0;31m---------------------------------------------------------------------------\u001b[0m"
     ]
    }
   ],
   "source": [
    "# standardise the data set and evaluate and print out the cross validation score\n",
    "seed=1\n",
    "np.random.seed(seed)\n",
    "estimators = []\n",
    "estimators.append(('standardize', StandardScaler()))\n",
    "estimators.append(('mlp', KerasClassifier(build_fn=model_build, epochs=100, batch_size=5, verbose=2)))\n",
    "pipeline = Pipeline(estimators)\n",
    "kfold = StratifiedKFold(n_splits=10, shuffle=True, random_state=seed)\n",
    "results = cross_val_score(pipeline, X, encoded_Y, cv=kfold)\n",
    "print(\"Standardized: %.2f%% (%.2f%%)\" % (results.mean()*100, results.std()*100))"
   ]
  },
  {
   "cell_type": "markdown",
   "metadata": {},
   "source": [
    "# AUC Curves"
   ]
  },
  {
   "cell_type": "code",
   "execution_count": 38,
   "metadata": {
    "collapsed": true
   },
   "outputs": [],
   "source": [
    "from sklearn.metrics import roc_curve, auc\n",
    "\n",
    "def plot_roc_curve(fpr, tpr, title, label=None):\n",
    "    plt.plot(fpr, tpr, linewidth=2, label=label)\n",
    "    plt.plot([0, 1], [0, 1], 'k--')\n",
    "    plt.axis([0, 1, 0, 1])\n",
    "    plt.title(title)\n",
    "    plt.xlabel('False Positive Rate', fontsize=16)\n",
    "    plt.ylabel('True Positive Rate', fontsize=16)\n",
    "    plt.show()"
   ]
  },
  {
   "cell_type": "code",
   "execution_count": 39,
   "metadata": {
    "collapsed": false
   },
   "outputs": [
    {
     "data": {
      "image/png": "[encoded data removed]",
      "text/plain": [
       "<matplotlib.figure.Figure at 0x1fb29c0fe10>"
      ]
     },
     "metadata": {},
     "output_type": "display_data"
    },
    {
     "name": "stdout",
     "output_type": "stream",
     "text": [
      "AUC: 0.758682006925\n"
     ]
    },
    {
     "data": {
      "image/png": "[encoded data removed]",
      "text/plain": [
       "<matplotlib.figure.Figure at 0x1fb20062518>"
      ]
     },
     "metadata": {},
     "output_type": "display_data"
    },
    {
     "name": "stdout",
     "output_type": "stream",
     "text": [
      "AUC: 0.241317993075\n"
     ]
    }
   ],
   "source": [
    "fpr, tpr, thresholds = roc_curve(y_test, y_pred, pos_label=1)\n",
    "plot_roc_curve(fpr, tpr,  'ROC RF - True label 1')\n",
    "print(\"AUC:\", auc(fpr, tpr))\n",
    "\n",
    "fpr, tpr, thresholds = roc_curve(y_test, y_pred, pos_label=0)\n",
    "plot_roc_curve(fpr, tpr,  'ROC RF - True label 0')\n",
    "print(\"AUC:\", auc(fpr, tpr))"
   ]
  },
  {
   "cell_type": "code",
   "execution_count": 40,
   "metadata": {
    "collapsed": false
   },
   "outputs": [
    {
     "data": {
      "image/png": "[encoded data removed]",
      "text/plain": [
       "<matplotlib.figure.Figure at 0x1fb20500be0>"
      ]
     },
     "metadata": {},
     "output_type": "display_data"
    },
    {
     "name": "stdout",
     "output_type": "stream",
     "text": [
      "AUC: 0.499932316661\n"
     ]
    },
    {
     "data": {
      "image/png": "[encoded data removed]",
      "text/plain": [
       "<matplotlib.figure.Figure at 0x1fb20157940>"
      ]
     },
     "metadata": {},
     "output_type": "display_data"
    },
    {
     "name": "stdout",
     "output_type": "stream",
     "text": [
      "AUC: 0.500067683339\n"
     ]
    }
   ],
   "source": [
    "fpr, tpr, thresholds = roc_curve(y_test, y_pred_logreg, pos_label=1)\n",
    "plot_roc_curve(fpr, tpr,  'ROC Logistic Regression - True label 1')\n",
    "print(\"AUC:\", auc(fpr, tpr))\n",
    "\n",
    "fpr, tpr, thresholds = roc_curve(y_test, y_pred_logreg, pos_label=0)\n",
    "plot_roc_curve(fpr, tpr,  'ROC Logistic Regression - True label 0')\n",
    "print(\"AUC:\", auc(fpr, tpr))"
   ]
  },
  {
   "cell_type": "code",
   "execution_count": 41,
   "metadata": {
    "collapsed": false
   },
   "outputs": [
    {
     "data": {
      "image/png": "[encoded data removed]",
      "text/plain": [
       "<matplotlib.figure.Figure at 0x1fb27f84a90>"
      ]
     },
     "metadata": {},
     "output_type": "display_data"
    },
    {
     "name": "stdout",
     "output_type": "stream",
     "text": [
      "AUC: 0.582700538216\n"
     ]
    },
    {
     "data": {
      "image/png": "[encoded data removed]",
      "text/plain": [
       "<matplotlib.figure.Figure at 0x1fb20604ef0>"
      ]
     },
     "metadata": {},
     "output_type": "display_data"
    },
    {
     "name": "stdout",
     "output_type": "stream",
     "text": [
      "AUC: 0.417299461784\n"
     ]
    }
   ],
   "source": [
    "fpr, tpr, thresholds = roc_curve(y_test, y_pred_gb, pos_label=1)\n",
    "plot_roc_curve(fpr, tpr,  'ROC Gradient Boosting - True label 1')\n",
    "print(\"AUC:\", auc(fpr, tpr))\n",
    "\n",
    "fpr, tpr, thresholds = roc_curve(y_test, y_pred_gb, pos_label=0)\n",
    "plot_roc_curve(fpr, tpr,  'ROC Gradient Boosting - True label 0')\n",
    "print(\"AUC:\", auc(fpr, tpr))"
   ]
  },
  {
   "cell_type": "code",
   "execution_count": 42,
   "metadata": {
    "collapsed": false
   },
   "outputs": [
    {
     "data": {
      "image/png": "[encoded data removed]",
      "text/plain": [
       "<matplotlib.figure.Figure at 0x1fb202ea828>"
      ]
     },
     "metadata": {},
     "output_type": "display_data"
    },
    {
     "name": "stdout",
     "output_type": "stream",
     "text": [
      "AUC: 0.535666169659\n"
     ]
    },
    {
     "data": {
      "image/png": "[encoded data removed]",
      "text/plain": [
       "<matplotlib.figure.Figure at 0x1fb01e5fc88>"
      ]
     },
     "metadata": {},
     "output_type": "display_data"
    },
    {
     "name": "stdout",
     "output_type": "stream",
     "text": [
      "AUC: 0.464333830341\n"
     ]
    }
   ],
   "source": [
    "fpr, tpr, thresholds = roc_curve(y_test, y_pred_gnb, pos_label=1)\n",
    "plot_roc_curve(fpr, tpr,  'ROC Gaussian NB - True label 1')\n",
    "print(\"AUC:\", auc(fpr, tpr))\n",
    "\n",
    "fpr, tpr, thresholds = roc_curve(y_test, y_pred_gnb, pos_label=0)\n",
    "plot_roc_curve(fpr, tpr,  'ROC Gaussian NB - True label 0')\n",
    "print(\"AUC:\", auc(fpr, tpr))"
   ]
  }
 ],
 "metadata": {
  "kernelspec": {
   "display_name": "Python 3",
   "language": "python",
   "name": "python3"
  },
  "language_info": {
   "codemirror_mode": {
    "name": "ipython",
    "version": 3
   },
   "file_extension": ".py",
   "mimetype": "text/x-python",
   "name": "python",
   "nbconvert_exporter": "python",
   "pygments_lexer": "ipython3",
   "version": "3.6.0"
  }
 },
 "nbformat": 4,
 "nbformat_minor": 2
}
